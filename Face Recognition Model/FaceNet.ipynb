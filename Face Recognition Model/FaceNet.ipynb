{
 "cells": [
  {
   "cell_type": "code",
   "execution_count": 37,
   "metadata": {},
   "outputs": [],
   "source": [
    "from facenet_pytorch import MTCNN, InceptionResnetV1\n",
    "from PIL import Image\n",
    "from sklearn.metrics.pairwise import cosine_similarity\n",
    "import numpy as np\n",
    "from scipy import spatial\n",
    "from sklearn.decomposition import PCA\n",
    "import dlib\n",
    "import cv2"
   ]
  },
  {
   "cell_type": "code",
   "execution_count": 38,
   "metadata": {},
   "outputs": [],
   "source": [
    "mtcnn = MTCNN()\n",
    "\n",
    "resnet = InceptionResnetV1(pretrained='vggface2').eval()"
   ]
  },
  {
   "cell_type": "code",
   "execution_count": 39,
   "metadata": {},
   "outputs": [],
   "source": [
    "img2 = Image.open(r'D:\\FCAI\\GRAD Project\\Face Recognition Model\\islam.jpg')\n",
    "img3 = Image.open(r'D:\\FCAI\\GRAD Project\\Face Recognition Model\\islam2.jpg')\n",
    "\n",
    "image = cv2.imread(r'D:\\FCAI\\GRAD Project\\Face Recognition Model\\islam.jpg')\n",
    "\n",
    "img2_cropped = mtcnn(img2, save_path=r'D:\\FCAI\\GRAD Project\\Face Recognition Model\\new islam.jpg')\n",
    "img3_cropped = mtcnn(img3, save_path=r'D:\\FCAI\\GRAD Project\\Face Recognition Model\\new islam2.jpg')"
   ]
  },
  {
   "cell_type": "code",
   "execution_count": 44,
   "metadata": {},
   "outputs": [],
   "source": [
    "import dlib\n",
    "import cv2\n",
    "import numpy as np\n",
    "\n",
    "# Load the pre-trained facial landmark detector\n",
    "predictor_path = 'D:\\FCAI\\GRAD Project\\Face Recognition Model\\Face Landmark\\shape_predictor_68_face_landmarks.dat'\n",
    "predictor = dlib.shape_predictor(predictor_path)\n",
    "\n",
    "# Load the input image\n",
    "image_path = 'D:\\FCAI\\GRAD Project\\Face Recognition Model\\islam.jpg'\n",
    "image = cv2.imread(image_path)\n",
    "\n",
    "# Convert the image to grayscale\n",
    "gray = cv2.cvtColor(image, cv2.COLOR_BGR2GRAY)\n",
    "\n",
    "# Use the facial landmark detector to detect landmarks\n",
    "rect = dlib.rectangle(0, 0, gray.shape[1], gray.shape[0])\n",
    "shape = predictor(gray, rect)\n",
    "\n",
    "# Define the desired facial points for alignment (e.g., eyes, nose)\n",
    "desired_left_eye = (0.35, 0.35)\n",
    "desired_right_eye = (0.65, 0.35)\n",
    "\n",
    "# Calculate the transformation matrix for alignment\n",
    "landmarks = np.array([(shape.part(i).x, shape.part(i).y) for i in range(68)])\n",
    "left_eye = landmarks[36:42]\n",
    "right_eye = landmarks[42:48]\n",
    "M = cv2.estimateAffinePartial2D(left_eye, right_eye)\n",
    "\n",
    "# Apply the transformation matrix to align the face\n",
    "aligned = cv2.warpAffine(image, M[0], (image.shape[1], image.shape[0]))\n",
    "\n",
    "# Display the aligned face\n",
    "cv2.imshow('Aligned Face', aligned)\n",
    "cv2.waitKey(0)\n",
    "cv2.destroyAllWindows()\n"
   ]
  },
  {
   "cell_type": "code",
   "execution_count": 41,
   "metadata": {},
   "outputs": [],
   "source": [
    "img2_embedding = resnet(img2_cropped.unsqueeze(0)).flatten()\n",
    "img3_embedding = resnet(img3_cropped.unsqueeze(0)).flatten()\n",
    "\n",
    "img2_embedding = img2_embedding.detach().numpy()\n",
    "img3_embedding = img3_embedding.detach().numpy()\n",
    "# print(len(img2_embedding))\n",
    "# print(len(img3_embedding))\n",
    "\n",
    "# img2_embedding = img2_embedding.reshape(1, -1)\n",
    "# img3_embedding = img3_embedding.reshape(1, -1)\n",
    "\n",
    "# print(img2_embedding.shape)\n",
    "# print(img3_embedding.shape)"
   ]
  },
  {
   "cell_type": "code",
   "execution_count": 42,
   "metadata": {},
   "outputs": [],
   "source": [
    "# pca = PCA(n_components=1)\n",
    "# pca.fit(img2_embedding)\n",
    "\n",
    "# mango = pca.transform(img2_embedding)\n",
    "# mango"
   ]
  },
  {
   "cell_type": "code",
   "execution_count": 43,
   "metadata": {},
   "outputs": [
    {
     "name": "stdout",
     "output_type": "stream",
     "text": [
      "0.9074168801307678\n"
     ]
    }
   ],
   "source": [
    "similarity = 1 - spatial.distance.cosine(img2_embedding, img3_embedding)\n",
    "print(similarity)"
   ]
  }
 ],
 "metadata": {
  "kernelspec": {
   "display_name": "Python 3",
   "language": "python",
   "name": "python3"
  },
  "language_info": {
   "codemirror_mode": {
    "name": "ipython",
    "version": 3
   },
   "file_extension": ".py",
   "mimetype": "text/x-python",
   "name": "python",
   "nbconvert_exporter": "python",
   "pygments_lexer": "ipython3",
   "version": "3.10.11"
  },
  "orig_nbformat": 4,
  "vscode": {
   "interpreter": {
    "hash": "f09117cac48741f8183e0a98054cc9aef105c43c3ba1f38623a0a9f5c3cfccfb"
   }
  }
 },
 "nbformat": 4,
 "nbformat_minor": 2
}
